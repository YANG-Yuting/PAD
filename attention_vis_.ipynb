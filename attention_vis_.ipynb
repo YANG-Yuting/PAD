{
 "cells": [
  {
   "cell_type": "code",
   "execution_count": null,
   "metadata": {
    "collapsed": true
   },
   "outputs": [],
   "source": [
    "from transformers import AutoTokenizer, BertForSequenceClassification, BertConfig, AutoModelForSequenceClassification\n",
    "from bertviz import model_view\n",
    "from models import EnsembleBERT\n",
    "from config import args\n",
    "import torch\n",
    "\n",
    "args.rank=0\n",
    "args.target_model_path = '/pub/data/huangpei/PAT-AAAI23/TextFooler/models/bert/mr'\n",
    "args.num_models = 3\n",
    "\n",
    "tokenizer = AutoTokenizer.from_pretrained(args.target_model_path)\n",
    "config = BertConfig.from_pretrained(args.target_model_path)\n",
    "config.aux_weight = args.aux_weight\n",
    "config.num_models = args.num_models\n",
    "config.perturb_attention = args.perturb_attention\n",
    "checkpoint = torch.load(args.target_model_path + '/pytorch_model.bin')\n",
    "model = EnsembleBERT.from_pretrained('bert-base-uncased', state_dict=checkpoint, config=config).cuda(args.rank)    \n",
    "\n",
    "sentence = \"The cat sat on the mat\"    \n",
    "outs = tokenizer.encode_plus(sentence)\n",
    "input_ids = outs['input_ids']\n",
    "input_mask = outs['attention_mask']\n",
    "if args.target_model == 'bert':\n",
    "    segment_ids = outs['token_type_ids']\n",
    "outputs = model(input_ids=torch.LongTensor([input_ids]).cuda(args.rank), token_type_ids=torch.LongTensor([segment_ids]).cuda(args.rank), attention_mask=torch.LongTensor([input_mask]).cuda(args.rank), output_attentions=True)\n",
    "attention = outputs['attentions']  # Output includes attention weights when output_attentions=True\n",
    "tokens = tokenizer.convert_ids_to_tokens(input_ids) \n",
    "\n",
    "model_view(attention, tokens)"
   ]
  }
 ],
 "metadata": {
  "kernelspec": {
   "display_name": "Python 2",
   "language": "python",
   "name": "python2"
  },
  "language_info": {
   "codemirror_mode": {
    "name": "ipython",
    "version": 2
   },
   "file_extension": ".py",
   "mimetype": "text/x-python",
   "name": "python",
   "nbconvert_exporter": "python",
   "pygments_lexer": "ipython2",
   "version": "2.7.6"
  }
 },
 "nbformat": 4,
 "nbformat_minor": 0
}
